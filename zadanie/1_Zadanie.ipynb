{
  "nbformat": 4,
  "nbformat_minor": 0,
  "metadata": {
    "colab": {
      "provenance": []
    },
    "kernelspec": {
      "name": "python3",
      "display_name": "Python 3"
    },
    "language_info": {
      "name": "python"
    }
  },
  "cells": [
    {
      "cell_type": "code",
      "source": [
        "a = int(input('Input number: '))\n",
        "b = 10\n",
        "c = 5\n",
        "\n",
        "\n",
        "\n",
        "if a < 0:\n",
        " print (\"-1\")\n",
        "else:\n",
        "  numbers = [a,b,c]\n",
        "  max_number = max(numbers)\n",
        "  print(max_number)\n",
        "\n"
      ],
      "metadata": {
        "id": "O_HmAo2tYok5",
        "outputId": "d71aa65d-0652-4daf-c52f-0d4c6bb6e774",
        "colab": {
          "base_uri": "https://localhost:8080/"
        }
      },
      "execution_count": null,
      "outputs": [
        {
          "output_type": "stream",
          "name": "stdout",
          "text": [
            "Input number: 1\n",
            "10\n"
          ]
        }
      ]
    }
  ]
}